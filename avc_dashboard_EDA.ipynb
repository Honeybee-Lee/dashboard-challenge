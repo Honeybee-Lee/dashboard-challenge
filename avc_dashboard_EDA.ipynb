{
 "cells": [
  {
   "cell_type": "markdown",
   "id": "d85287c8",
   "metadata": {},
   "source": [
    "# AVC Data Challenge Dashboard - EDA"
   ]
  },
  {
   "cell_type": "markdown",
   "id": "a95d104f",
   "metadata": {},
   "source": [
    "\n",
    "---\n",
    "\n",
    "### Questions to Answer:\n",
    "Problem statement: The last couple of years have caused major changes in how we conduct work. Remote work on the rise and rising house prices may have resulted in some of the workforce moving to new regions of the country. I would like a tool to help me make a more informed decision on the impacts as change in the hybrid work environment has on my team.\n",
    "1. Did we see a trend in migration from  one region to another due to the pandemic?\n",
    "2. Does the cost of living factor into the migration trends? Please find additonal data sets about cost of living to pull into your dashboard.\n",
    "3. Why are people choosing to move and have their reasons changed over time?\n",
    "4. Do certain occupations have more mobility than others?\n",
    "\n",
    "Guidelines:\n",
    "- Must use provided datasets\n",
    "- May use additional datasets if they help your analysis\n",
    "- Must provide references to all data sets used in your dashboard\n",
    "- Limit submissions to single page dashboard, you are welcome to enable scrolling\n",
    "- The technical challenge for this competition is to tell a story with the data."
   ]
  },
  {
   "cell_type": "markdown",
   "id": "b1f993a1",
   "metadata": {},
   "source": [
    "**Note:**\n",
    "- '-' or (Z) represents 0\n",
    "- f = flow\n",
    "- r = reason\n",
    "- i = income\n",
    "- s = labor force status\n",
    "- o = occupation\n",
    "- ind = industry"
   ]
  },
  {
   "cell_type": "code",
   "execution_count": null,
   "id": "a87070ae",
   "metadata": {},
   "outputs": [],
   "source": [
    "import pandas as pd\n",
    "import numpy as np\n",
    "import matplotlib.pyplot as plt\n",
    "from excel_functions import get_files_and_make_dfs\n",
    "import os"
   ]
  },
  {
   "cell_type": "markdown",
   "id": "ccbeb526",
   "metadata": {},
   "source": [
    "## Flow data frames"
   ]
  },
  {
   "cell_type": "code",
   "execution_count": null,
   "id": "15143494",
   "metadata": {},
   "outputs": [],
   "source": [
    "# dataframes for flow\n",
    "df_list = get_files_and_make_dfs()"
   ]
  },
  {
   "cell_type": "code",
   "execution_count": null,
   "id": "c1d63ecc",
   "metadata": {},
   "outputs": [],
   "source": [
    "for df in range(len(df_list)):\n",
    "    globals()[f\"fdf_{df}\"] = df_list[df]"
   ]
  },
  {
   "cell_type": "markdown",
   "id": "8264861a",
   "metadata": {},
   "source": [
    "## Reason dataframes"
   ]
  },
  {
   "cell_type": "code",
   "execution_count": null,
   "id": "4688a531",
   "metadata": {},
   "outputs": [],
   "source": [
    "df_list = get_files_and_make_dfs()"
   ]
  },
  {
   "cell_type": "code",
   "execution_count": null,
   "id": "1ddf5f7f",
   "metadata": {},
   "outputs": [],
   "source": [
    "for df in range(len(df_list)):\n",
    "    globals()[f\"rdf_{df}\"] = df_list[df]"
   ]
  },
  {
   "cell_type": "markdown",
   "id": "aca309e7",
   "metadata": {},
   "source": [
    "> #### Totals"
   ]
  },
  {
   "cell_type": "markdown",
   "id": "fe632f94",
   "metadata": {},
   "source": [
    "> ### Income"
   ]
  },
  {
   "cell_type": "code",
   "execution_count": null,
   "id": "5373c2e7",
   "metadata": {},
   "outputs": [],
   "source": []
  },
  {
   "cell_type": "code",
   "execution_count": null,
   "id": "27ff6168",
   "metadata": {},
   "outputs": [],
   "source": []
  },
  {
   "cell_type": "code",
   "execution_count": null,
   "id": "f5ca1793",
   "metadata": {},
   "outputs": [],
   "source": []
  },
  {
   "cell_type": "code",
   "execution_count": null,
   "id": "9a3239bf",
   "metadata": {},
   "outputs": [],
   "source": []
  },
  {
   "cell_type": "code",
   "execution_count": null,
   "id": "3765175d",
   "metadata": {},
   "outputs": [],
   "source": []
  },
  {
   "cell_type": "code",
   "execution_count": null,
   "id": "4f487963",
   "metadata": {},
   "outputs": [],
   "source": []
  },
  {
   "cell_type": "code",
   "execution_count": null,
   "id": "bb70b77f",
   "metadata": {},
   "outputs": [],
   "source": []
  },
  {
   "cell_type": "code",
   "execution_count": null,
   "id": "add76d84",
   "metadata": {},
   "outputs": [],
   "source": []
  },
  {
   "cell_type": "code",
   "execution_count": null,
   "id": "da545c89",
   "metadata": {},
   "outputs": [],
   "source": []
  }
 ],
 "metadata": {
  "kernelspec": {
   "display_name": "Python 3",
   "language": "python",
   "name": "python3"
  },
  "language_info": {
   "codemirror_mode": {
    "name": "ipython",
    "version": 3
   },
   "file_extension": ".py",
   "mimetype": "text/x-python",
   "name": "python",
   "nbconvert_exporter": "python",
   "pygments_lexer": "ipython3",
   "version": "3.8.8"
  }
 },
 "nbformat": 4,
 "nbformat_minor": 5
}
